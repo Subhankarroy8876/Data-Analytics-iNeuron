{
 "cells": [
  {
   "cell_type": "markdown",
   "id": "bef19320",
   "metadata": {},
   "source": [
    "#Q1\n",
    "\n",
    "We can include up to three different conditions on any cell or range of cells."
   ]
  },
  {
   "cell_type": "markdown",
   "id": "6d8b0550",
   "metadata": {},
   "source": [
    "#Q2\n",
    "\n",
    "1. Select one or more cells to which we'd like to add borders.\n",
    "2. Open the Format Cells dialog box by doing one of the following: ...\n",
    "3. In the Format Cells dialog box, switch to the Border tab and choose the line style and color first.\n",
    "4. When done, click OK."
   ]
  },
  {
   "cell_type": "markdown",
   "id": "0fd82094",
   "metadata": {},
   "source": [
    "#Q3\n",
    "\n",
    "1. Select the cells that you want to format and then, in the Number group on the Home tab, click the down arrow in the Number Format box.\n",
    "2. Choose either Currency or Accounting."
   ]
  },
  {
   "cell_type": "markdown",
   "id": "767ea90f",
   "metadata": {},
   "source": [
    "#Q4\n",
    "\n",
    "On the Home tab, in the Number group, click the icon next to Number to display the Format Cells dialog box. In the Format Cells dialog box, in the Category list, click Percentage. In the Decimal places box, enter the number of decimal places that you want to display."
   ]
  },
  {
   "cell_type": "markdown",
   "id": "3d1ed04d",
   "metadata": {},
   "source": [
    "#Q5\n",
    "\n",
    "The shortcut to merge two or more cells in excel is by executing ALT H+M+M."
   ]
  },
  {
   "cell_type": "markdown",
   "id": "55e58118",
   "metadata": {},
   "source": [
    "#Q6\n",
    "\n",
    "Select the column, or range where you'll be putting the values, then use CTRL+1 to bring up the Format > Cells dialog and on the Number tab select Text. Now Excel will keep your leading 0's. If you've already entered data and Excel has removed your leading 0's, you can use the TEXT function to add them back."
   ]
  },
  {
   "cell_type": "code",
   "execution_count": null,
   "id": "b2a172fd",
   "metadata": {},
   "outputs": [],
   "source": []
  }
 ],
 "metadata": {
  "kernelspec": {
   "display_name": "Python 3 (ipykernel)",
   "language": "python",
   "name": "python3"
  },
  "language_info": {
   "codemirror_mode": {
    "name": "ipython",
    "version": 3
   },
   "file_extension": ".py",
   "mimetype": "text/x-python",
   "name": "python",
   "nbconvert_exporter": "python",
   "pygments_lexer": "ipython3",
   "version": "3.9.7"
  }
 },
 "nbformat": 4,
 "nbformat_minor": 5
}

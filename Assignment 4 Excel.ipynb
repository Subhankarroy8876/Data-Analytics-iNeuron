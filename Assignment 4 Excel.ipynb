{
 "cells": [
  {
   "cell_type": "markdown",
   "id": "19cf1e5e",
   "metadata": {},
   "source": [
    "#Q1\n",
    "\n",
    "Home: This is the most popular bar and displayed by default when excel is opened. This tab contains the basic Clipboard commands, formatting commands, style commands, commands to insert and delete rows or columns, plus an assortment of worksheet editing commands."
   ]
  },
  {
   "cell_type": "markdown",
   "id": "a574dc46",
   "metadata": {},
   "source": [
    "#Q2\n",
    "\n",
    "If we set a row height or column width to 0 (zero), Excel will hide the row."
   ]
  },
  {
   "cell_type": "markdown",
   "id": "75bfbdd7",
   "metadata": {},
   "source": [
    "#Q3\n",
    "\n",
    "It is necessary to change width and height in excel to fit the data. Excel by default provide equal width and height with respect to columns and rows. Whenever we enter a lengthy data, few characters will get displayed and other will be present inside the cell but will be hidden to the user."
   ]
  },
  {
   "cell_type": "markdown",
   "id": "1bde5cfd",
   "metadata": {},
   "source": [
    "#Q4\n",
    "\n",
    "The key combination for unhiding rows is Ctrl+Shift+9."
   ]
  },
  {
   "cell_type": "markdown",
   "id": "f8ea59a9",
   "metadata": {},
   "source": [
    "#Q5\n",
    "\n",
    "1. Select the data range which contains the blank cells you want to hide.\n",
    "2. Then click Home > Find & Select > Go To Special\n",
    "3. And in the Go To Special dialog, select Blanks option, and then click OK button.\n",
    "4. All of the blank cells in the selection have been selected\n",
    "5. Then you can press Ctrl + 9 keys together to hide the rows which have blank cells."
   ]
  },
  {
   "cell_type": "markdown",
   "id": "6991ef76",
   "metadata": {},
   "source": [
    "#Q6\n",
    "\n",
    "1. Select the range you want to hide duplicates. \n",
    "2. Then click Conditional Formatting > Highlight Cells Rules > Duplicate Values under Home tab\n",
    "3. In the Duplicate Values dialog box, select Custom Format in the values with drop-down list, and then click the OK button.\n",
    "4. In the Format Cells dialog box, go to the Font tab, and in the Color drop-down list, choose a font color which matches the background color of your selected range cell. And finally click the OK button.\n",
    "5. When it returns to the Duplicate Values dialog box, click the OK button."
   ]
  },
  {
   "cell_type": "code",
   "execution_count": null,
   "id": "35648a56",
   "metadata": {},
   "outputs": [],
   "source": []
  }
 ],
 "metadata": {
  "kernelspec": {
   "display_name": "Python 3 (ipykernel)",
   "language": "python",
   "name": "python3"
  },
  "language_info": {
   "codemirror_mode": {
    "name": "ipython",
    "version": 3
   },
   "file_extension": ".py",
   "mimetype": "text/x-python",
   "name": "python",
   "nbconvert_exporter": "python",
   "pygments_lexer": "ipython3",
   "version": "3.9.7"
  }
 },
 "nbformat": 4,
 "nbformat_minor": 5
}

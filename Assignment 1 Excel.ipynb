{
 "cells": [
  {
   "cell_type": "markdown",
   "id": "acd511c1",
   "metadata": {},
   "source": [
    "# ASSIGNMENT 1"
   ]
  },
  {
   "cell_type": "markdown",
   "id": "7dd3246d",
   "metadata": {},
   "source": [
    "#Q1\n",
    "\n",
    "Every worksheet is made up of thousands of rectangles, which are called cells. A cell is a rectangular area formed by the intersection of a column and a row. Cells are identified by the Cell Name which is found by combining the Column Letter with the Row Number. For example the cell in Column \"E\" in Row \"1\" would be cell E1.\n"
   ]
  },
  {
   "cell_type": "markdown",
   "id": "b2113cea",
   "metadata": {},
   "source": [
    "#Q2\n",
    "\n",
    "To prevent other users from accidentally or deliberately changing, moving, or deleting data in a worksheet, we can lock the cells on our Excel worksheet and then protect the sheet with a password. For that we need to go to Menu bar >Review > Protect sheet > Password. By entering password, we can secure your worksheet from getting copied by others."
   ]
  },
  {
   "cell_type": "markdown",
   "id": "78566a17",
   "metadata": {},
   "source": [
    "#Q3\n",
    "\n",
    "We can move or copy a worksheet in the same workbook to organize our workbook exactly how we want. We can use the Move or Copy Sheet command to move or copy entire worksheets to other locations in the same or a different workbook. We can use the Cut and Copy commands to move or copy a portion of the data to other worksheets or workbooks. To move a worksheet within a workbook, we select the worksheet tab, and drag it to where we want it. To copy a worksheet in the same workbook, we press CTRL and drag the worksheet tab to the tab location we want."
   ]
  },
  {
   "cell_type": "markdown",
   "id": "a523ef45",
   "metadata": {},
   "source": [
    "#Q4\n",
    "\n",
    "To open a new window document in Excel, we use the key Ctrl+N."
   ]
  },
  {
   "cell_type": "markdown",
   "id": "081911b5",
   "metadata": {},
   "source": [
    "#Q5\n",
    "\n",
    "When we open Excel we see different things. Most of the screen is covered by a blank spreadsheet. Columns (labeled with letters) and rows (labeled with numbers) make up the cells of our worksheet.  Clicking the File tab opens the Backstage view of our workbook, where we can open and save files, get information about the current workbook, and perform other tasks that do not have to do with the content of the workbook, such as printing it or sending a copy of it in e-mail. Each tab in the ribbon displays commands that are grouped by task. We'll probably spend most of our time using the Home tab, when we're entering and formatting data. We use the Insert tab to add tables, charts, pictures, or other graphics to our worksheet. We use the Page Layout tab to adjust margins and layout, especially for printing. We use the Formulas tab to make calculations on the data in our worksheet. The pane along the side of the Excel window includes links to Help and shortcuts to templates and clip art, to give us a head-start on creating workbooks for specific tasks, such as managing a membership list or tracking expenses. The pane also displays advertising and a link to purchase a full-feature edition of Office."
   ]
  },
  {
   "cell_type": "markdown",
   "id": "2b4bec0b",
   "metadata": {},
   "source": [
    "#Q6\n",
    "\n",
    "This is the most widely used type of cell reference in formulas.  Relative cell references are basic cell references that adjust and change when copied or when using AutoFill. This reference is basically used to create and copy a formula. By default, all cell references are relative references. When copied across multiple cells, they change based on the relative position of rows and columns. For example, if you copy the formula =A1+B1 from row 1 to row 2, the formula will become =A2+B2. Relative references are especially convenient whenever you need to repeat the same calculation across multiple rows or columns. "
   ]
  },
  {
   "cell_type": "code",
   "execution_count": null,
   "id": "df1400f1",
   "metadata": {},
   "outputs": [],
   "source": []
  }
 ],
 "metadata": {
  "kernelspec": {
   "display_name": "Python 3 (ipykernel)",
   "language": "python",
   "name": "python3"
  },
  "language_info": {
   "codemirror_mode": {
    "name": "ipython",
    "version": 3
   },
   "file_extension": ".py",
   "mimetype": "text/x-python",
   "name": "python",
   "nbconvert_exporter": "python",
   "pygments_lexer": "ipython3",
   "version": "3.9.7"
  }
 },
 "nbformat": 4,
 "nbformat_minor": 5
}

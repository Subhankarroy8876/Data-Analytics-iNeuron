{
 "cells": [
  {
   "cell_type": "markdown",
   "id": "d9c4e376",
   "metadata": {},
   "source": [
    "#Q1\n",
    "\n",
    "In Excel, a dollar sign can denote a currency format, but it has another common use: indicating absolute cell references in formulas."
   ]
  },
  {
   "cell_type": "markdown",
   "id": "3ed2e6e3",
   "metadata": {},
   "source": [
    "#Q2\n",
    "\n",
    "By default, a cell reference is a relative reference, which means that the reference is relative to the location of the cell. If, for example, you refer to cell A2 from cell C2, you are actually referring to a cell that is two columns to the left (C minus A)—in the same row (2). When you copy a formula that contains a relative cell reference, that reference in the formula will change.\n",
    "\n",
    "To change the type of cell reference:\n",
    "\n",
    "Select the cell that contains the formula.\n",
    "\n",
    "In the formula bar, select the reference that you want to change.\n",
    "\n",
    "Press F4 to switch between the reference types.\n",
    "\n",
    "The table below summarizes how a reference type updates if a formula containing the reference is copied two cells down and two cells to the right."
   ]
  },
  {
   "cell_type": "markdown",
   "id": "9f43952a",
   "metadata": {},
   "source": [
    "#Q3\n",
    "\n",
    "First, any expressions in parentheses are evaluated. Parentheses essentially override the normal order of operations to ensure certain operations are performed first.\n",
    "\n",
    "Next, Excel will resolve references. This involves replacing cell references like A1 with the value from the cell, as well as evaluating range references like A1:A5, which become arrays of values. Other range operations like union (comma) and intersection (space) also happen at this time.\n",
    "\n",
    "Next, Excel will perform exponentiation, negation, and percent conversions (in that order), followed by multiplication and division, addition and subtraction, and concatenation. Finally, Excel will evaluate logical operators, if present."
   ]
  },
  {
   "cell_type": "markdown",
   "id": "f2f544e9",
   "metadata": {},
   "source": [
    "#Q4\n",
    "\n",
    "1. The SUM Function\n",
    "The sum function is the most used function when it comes to computing data on Excel. This function works to sum a group of numbers in a specific set of cells. This means you don’t need to type a long cumbrous formula just to calculate the sum of all the data you need. Because of its popularity, newer versions of Microsoft Excel have a button specifically for this function.\n",
    "2. The TEXT Function\n",
    "Text function is a useful tool that helps convert a date (or number) into a text string in a particular format. It falls in the category of string formulas that converts numerical values to a string. It is handy when users need to view numeric data in a readable format. Take note that the “TEXT” formula only works to convert numeric values to text. Therefore, its results cannot be calculated.\n",
    "3. The VLOOKUP Function\n",
    "VLookup is powerful Excel function that is often overlooked. Users will find it useful when they need to find specific data on a large table. You can also use VLookup to search for names, phone number, or specific data on your sheet. Instead of manually looking for the names and wasting time scrolling through hundreds of data, the VLookup function makes this process faster and more efficient.\n",
    "4. The AVERAGE Function\n",
    "The average function is an extremely useful tool for getting the average value in a range of cells. Like the sum function, it is frequently used in computing and analyzing data on spreadsheet. Basically, the average function works to find the “arithmetic mean” for a group of cells. Aside from the average function, Excel also has the median and mode function.\n",
    "5. The CONCATENATE Function\n",
    "This function is a good time saver when you need to combine data from 2 or more cells. Unlike the merge tool which physically merges two or more cells into a single cell, the concatenate function only combines the contents of the combined cells. In the latest version of Excel ( 2016), the concatenate function has been replaced with concat function and will be incorporated in more future versions of Excel."
   ]
  },
  {
   "cell_type": "markdown",
   "id": "b2145024",
   "metadata": {},
   "source": [
    "#Q5\n",
    "\n",
    "The Excel SUBTOTAL function returns an aggregate result for supplied values. SUBTOTAL can return a SUM, AVERAGE, COUNT, MAX, and others , and SUBTOTAL function can either include or exclude values in hidden rows."
   ]
  },
  {
   "cell_type": "markdown",
   "id": "8da1be77",
   "metadata": {},
   "source": [
    "#Q6\n",
    "\n",
    "The VLOOKUP function says: =VLOOKUP(What you want to look up, where you want to look for it, the column number in the range containing the value to return, return an Approximate or Exact match – indicated as 1/TRUE, or 0/FALSE)."
   ]
  },
  {
   "cell_type": "code",
   "execution_count": null,
   "id": "5b9fe636",
   "metadata": {},
   "outputs": [],
   "source": []
  }
 ],
 "metadata": {
  "kernelspec": {
   "display_name": "Python 3 (ipykernel)",
   "language": "python",
   "name": "python3"
  },
  "language_info": {
   "codemirror_mode": {
    "name": "ipython",
    "version": 3
   },
   "file_extension": ".py",
   "mimetype": "text/x-python",
   "name": "python",
   "nbconvert_exporter": "python",
   "pygments_lexer": "ipython3",
   "version": "3.9.7"
  }
 },
 "nbformat": 4,
 "nbformat_minor": 5
}

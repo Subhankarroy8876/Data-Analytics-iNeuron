{
 "cells": [
  {
   "cell_type": "markdown",
   "id": "a7065f1d",
   "metadata": {},
   "source": [
    "#Q1\n",
    "\n",
    "If you need to sum a column or row of numbers, let Excel do the math for you. Select a cell next to the numbers you want to sum, click AutoSum on the Home tab, press Enter, and you’re done.\n",
    "When you click AutoSum, Excel automatically enters a formula (that uses the SUM function) to sum the numbers."
   ]
  },
  {
   "cell_type": "markdown",
   "id": "b387876b",
   "metadata": {},
   "source": [
    "#Q2\n",
    "\n",
    "The Autosum Excel function can be accessed by typing ALT + the = sign in a spreadsheet, and it will automatically create a formula to sum all the numbers in a continuous range."
   ]
  },
  {
   "cell_type": "markdown",
   "id": "3fffd045",
   "metadata": {},
   "source": [
    "#Q3\n",
    "\n",
    "We follow few steps:\n",
    "1. Open Excel and then click on File.\n",
    "2. Go to Options and then select Formulas.\n",
    "3. Look for Error checking rules and uncheck Formulas which omit cells in a region.\n",
    "4. Click OK."
   ]
  },
  {
   "cell_type": "markdown",
   "id": "c7605111",
   "metadata": {},
   "source": [
    "#Q4\n",
    "\n",
    "To select a range, select a cell, then with the left mouse button pressed, drag over the other cells. Or use the Shift + arrow keys to select the range. To select non-adjacent cells and cell ranges, hold Ctrl and select the cells."
   ]
  },
  {
   "cell_type": "markdown",
   "id": "f865b17d",
   "metadata": {},
   "source": [
    "#Q5\n",
    "\n",
    "The contents of the first cell in the selected column will be replaced with the letters 'O-C-W'."
   ]
  },
  {
   "cell_type": "markdown",
   "id": "0f0606d4",
   "metadata": {},
   "source": [
    "#Q6\n",
    "\n",
    "If you right-click on a row reference number and click on Insert, a dialog box appears with four options - Shift cells right, shift cells down, entire row and entire column. "
   ]
  },
  {
   "cell_type": "code",
   "execution_count": null,
   "id": "62e92bbc",
   "metadata": {},
   "outputs": [],
   "source": []
  }
 ],
 "metadata": {
  "kernelspec": {
   "display_name": "Python 3 (ipykernel)",
   "language": "python",
   "name": "python3"
  },
  "language_info": {
   "codemirror_mode": {
    "name": "ipython",
    "version": 3
   },
   "file_extension": ".py",
   "mimetype": "text/x-python",
   "name": "python",
   "nbconvert_exporter": "python",
   "pygments_lexer": "ipython3",
   "version": "3.9.7"
  }
 },
 "nbformat": 4,
 "nbformat_minor": 5
}
